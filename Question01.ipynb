{
 "cells": [
  {
   "cell_type": "code",
   "execution_count": 1,
   "id": "fff3a5aa-2c1b-442b-b371-448d8dc0170d",
   "metadata": {},
   "outputs": [],
   "source": [
    "import pandas as pd\n",
    "df = pd.DataFrame([[1,1,0,0,1,0,1,1]\n",
    "                 , [0,1,0,1,1,1,0,1]\n",
    "                 , [0,0,1,0,1,0,1,0]\n",
    "                 , [1,1,0,0,1,0,1,1]\n",
    "                 , [1,0,1,1,0,0,1,0]\n",
    "                 , [1,0,1,0,0,1,1,0]\n",
    "                 , [1,0,1,1,0,1,1,1]\n",
    "                 , [1,0,0,0,0,1,1,0]])\n"
   ]
  },
  {
   "cell_type": "code",
   "execution_count": 2,
   "id": "2ebe024d-b525-4bec-b597-ce6b43c42c72",
   "metadata": {},
   "outputs": [
    {
     "data": {
      "text/plain": [
       "[None, None, None]"
      ]
     },
     "execution_count": 2,
     "metadata": {},
     "output_type": "execute_result"
    }
   ],
   "source": [
    "a = []\n",
    "[a.append([0,i]) for i in pd.DataFrame(df.loc[0,df.iloc[0] == 1]).index]\n",
    "[a.append([5,i]) for i in pd.DataFrame(df.loc[len(df)-1,df.iloc[len(df)-1] == 1]).index]\n",
    "[a.append([i,0]) for i in range(1,len(df.columns)-1) if df.iloc[i,0] == 1]\n",
    "[a.append([i,len(df.columns)-1]) for i in range(1,len(df.columns)-1) if df.iloc[i,len(df.columns)-1] == 1]"
   ]
  },
  {
   "cell_type": "code",
   "execution_count": 3,
   "id": "a287408f-a849-4681-90a1-d46775d62b4b",
   "metadata": {},
   "outputs": [],
   "source": [
    "mim = []\n",
    "\n",
    "def usaskontrol(str,stn):\n",
    "    mim_k = []\n",
    "    ##ust\n",
    "    if  str - 1 > -1:\n",
    "        if df.iloc[str-1][stn] == 1:\n",
    "            if ([str-1, stn] in a) == False and ([str-1, stn] in mim) == False:\n",
    "                mim.append([str-1, stn])\n",
    "                mim_k.append([str-1, stn])\n",
    "    ##sol\n",
    "    if stn - 1 > -1:\n",
    "        if df.iloc[str][stn-1] == 1:\n",
    "            if ([str, stn-1] in a) == False and ([str, stn-1] in mim) == False:\n",
    "                mim.append([str, stn - 1])\n",
    "                mim_k.append([str, stn -1])\n",
    "\n",
    "    ##alt\n",
    "    if str + 1  < len(df.columns):\n",
    "        if df.iloc[str + 1][stn] == 1:\n",
    "            if ([str + 1, stn] in a) == False and ([str + 1, stn] in mim) == False:\n",
    "                mim.append([str + 1, stn])\n",
    "                mim_k.append([str + 1, stn])\n",
    "\n",
    "    ##sag\n",
    "    if stn + 1 < len(df.columns):\n",
    "        if df.iloc[str][stn + 1] == 1:\n",
    "            if ([str, stn + 1] in a) == False and ([str, stn + 1] in mim) == False:\n",
    "                mim.append([str, stn + 1])\n",
    "                mim_k.append([str , stn + 1])\n",
    "\n",
    "    if len(mim_k) != 0:\n",
    "        for i in range(len(mim_k)):\n",
    "            usaskontrol(mim_k[i][0], mim_k[i][1])\n",
    "    else :\n",
    "         return False"
   ]
  },
  {
   "cell_type": "code",
   "execution_count": 4,
   "id": "0c5033d5-468c-4d9a-88d0-ec480612edff",
   "metadata": {},
   "outputs": [],
   "source": [
    "for i in range(len(a)):\n",
    "     usaskontrol(a[i][0],a[i][1])"
   ]
  },
  {
   "cell_type": "code",
   "execution_count": 5,
   "id": "519a5658-a095-4903-bdf7-2b4de7545646",
   "metadata": {},
   "outputs": [
    {
     "name": "stdout",
     "output_type": "stream",
     "text": [
      "   0  1  2  3  4  5  6  7\n",
      "0  1  1  0  0  1  0  1  1\n",
      "1  0  1  0  1  1  1  0  1\n",
      "2  0  0  1  0  1  0  1  0\n",
      "3  1  1  0  0  1  0  1  1\n",
      "4  1  0  1  1  0  0  1  0\n",
      "5  1  0  1  0  0  1  1  0\n",
      "6  1  0  1  1  0  1  1  1\n",
      "7  1  0  0  0  0  1  1  0\n"
     ]
    }
   ],
   "source": [
    "top = mim + a\n",
    "print(df)"
   ]
  },
  {
   "cell_type": "code",
   "execution_count": 6,
   "id": "f3827ca6-7669-4c41-b99e-d0372309afa8",
   "metadata": {},
   "outputs": [
    {
     "name": "stdout",
     "output_type": "stream",
     "text": [
      "########################################################################\n",
      "   0  1  2  3  4  5  6  7\n",
      "0  1  1  0  0  1  0  1  1\n",
      "1  0  1  0  1  1  1  0  1\n",
      "2  0  0  0  0  1  0  1  0\n",
      "3  1  1  0  0  1  0  1  1\n",
      "4  1  0  0  0  0  0  1  0\n",
      "5  1  0  0  0  0  1  1  0\n",
      "6  1  0  0  0  0  1  1  1\n",
      "7  1  0  0  0  0  1  1  0\n"
     ]
    }
   ],
   "source": [
    "print(\"########################################################################\")\n",
    "for i in range(len(df)):\n",
    "    for j in range(len(df.columns)):\n",
    "         if ([i,j] in top) == False:\n",
    "             df.iloc[i,j] = 0\n",
    "print(df)\n"
   ]
  }
 ],
 "metadata": {
  "kernelspec": {
   "display_name": "Python 3 (ipykernel)",
   "language": "python",
   "name": "python3"
  },
  "language_info": {
   "codemirror_mode": {
    "name": "ipython",
    "version": 3
   },
   "file_extension": ".py",
   "mimetype": "text/x-python",
   "name": "python",
   "nbconvert_exporter": "python",
   "pygments_lexer": "ipython3",
   "version": "3.9.7"
  }
 },
 "nbformat": 4,
 "nbformat_minor": 5
}
